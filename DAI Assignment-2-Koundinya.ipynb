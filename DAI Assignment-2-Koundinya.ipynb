{
 "cells": [
  {
   "cell_type": "markdown",
   "metadata": {},
   "source": [
    "# Q1. Solve a system of two variable linear equations"
   ]
  },
  {
   "cell_type": "markdown",
   "metadata": {},
   "source": [
    "Let the linear equations be of the form ax+by=c:\n",
    "    Eq1: 2x+3y=6,\n",
    "    Eq2: 5x+2y=9"
   ]
  },
  {
   "cell_type": "code",
   "execution_count": 5,
   "metadata": {},
   "outputs": [],
   "source": [
    "import numpy as np"
   ]
  },
  {
   "cell_type": "code",
   "execution_count": 9,
   "metadata": {},
   "outputs": [
    {
     "name": "stdout",
     "output_type": "stream",
     "text": [
      "The solution of the given linear equations: [1.36363636 1.09090909]\n"
     ]
    }
   ],
   "source": [
    "#   a1=2, b1=3, c1=6\n",
    "#   a2=5, b2=2, c2=9\n",
    "A=np.array([[2,3],[5,2]])\n",
    "B=np.array([6,9])\n",
    "X=np.linalg.solve(A,B)\n",
    "print(f'The solution of the given linear equations: {X}')"
   ]
  },
  {
   "cell_type": "markdown",
   "metadata": {},
   "source": [
    "# Q2. Write a program to load weather data set and compute the monthly average rain fall and monthly average temperature. Plot the results."
   ]
  },
  {
   "cell_type": "code",
   "execution_count": null,
   "metadata": {},
   "outputs": [],
   "source": []
  }
 ],
 "metadata": {
  "kernelspec": {
   "display_name": "Python 3",
   "language": "python",
   "name": "python3"
  },
  "language_info": {
   "codemirror_mode": {
    "name": "ipython",
    "version": 3
   },
   "file_extension": ".py",
   "mimetype": "text/x-python",
   "name": "python",
   "nbconvert_exporter": "python",
   "pygments_lexer": "ipython3",
   "version": "3.7.4"
  }
 },
 "nbformat": 4,
 "nbformat_minor": 2
}
